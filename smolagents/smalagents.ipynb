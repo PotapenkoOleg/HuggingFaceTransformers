{
 "cells": [
  {
   "cell_type": "code",
   "execution_count": 1,
   "id": "c50f5611",
   "metadata": {},
   "outputs": [],
   "source": [
    "# %pip install \"smolagents[all]\""
   ]
  },
  {
   "cell_type": "code",
   "execution_count": 6,
   "id": "778d9921",
   "metadata": {},
   "outputs": [
    {
     "data": {
      "text/html": [
       "<pre style=\"white-space:pre;overflow-x:auto;line-height:normal;font-family:Menlo,'DejaVu Sans Mono',consolas,'Courier New',monospace\"><span style=\"color: #d4b702; text-decoration-color: #d4b702\">╭──────────────────────────────────────────────────── </span><span style=\"color: #d4b702; text-decoration-color: #d4b702; font-weight: bold\">New run</span><span style=\"color: #d4b702; text-decoration-color: #d4b702\"> ────────────────────────────────────────────────────╮</span>\n",
       "<span style=\"color: #d4b702; text-decoration-color: #d4b702\">│</span>                                                                                                                 <span style=\"color: #d4b702; text-decoration-color: #d4b702\">│</span>\n",
       "<span style=\"color: #d4b702; text-decoration-color: #d4b702\">│</span> <span style=\"font-weight: bold\">Why the sky is blue?</span>                                                                                            <span style=\"color: #d4b702; text-decoration-color: #d4b702\">│</span>\n",
       "<span style=\"color: #d4b702; text-decoration-color: #d4b702\">│</span>                                                                                                                 <span style=\"color: #d4b702; text-decoration-color: #d4b702\">│</span>\n",
       "<span style=\"color: #d4b702; text-decoration-color: #d4b702\">╰─ LiteLLMModel - ollama_chat/phi4:latest ────────────────────────────────────────────────────────────────────────╯</span>\n",
       "</pre>\n"
      ],
      "text/plain": [
       "\u001b[38;2;212;183;2m╭─\u001b[0m\u001b[38;2;212;183;2m───────────────────────────────────────────────────\u001b[0m\u001b[38;2;212;183;2m \u001b[0m\u001b[1;38;2;212;183;2mNew run\u001b[0m\u001b[38;2;212;183;2m \u001b[0m\u001b[38;2;212;183;2m───────────────────────────────────────────────────\u001b[0m\u001b[38;2;212;183;2m─╮\u001b[0m\n",
       "\u001b[38;2;212;183;2m│\u001b[0m                                                                                                                 \u001b[38;2;212;183;2m│\u001b[0m\n",
       "\u001b[38;2;212;183;2m│\u001b[0m \u001b[1mWhy the sky is blue?\u001b[0m                                                                                            \u001b[38;2;212;183;2m│\u001b[0m\n",
       "\u001b[38;2;212;183;2m│\u001b[0m                                                                                                                 \u001b[38;2;212;183;2m│\u001b[0m\n",
       "\u001b[38;2;212;183;2m╰─\u001b[0m\u001b[38;2;212;183;2m LiteLLMModel - ollama_chat/phi4:latest \u001b[0m\u001b[38;2;212;183;2m───────────────────────────────────────────────────────────────────────\u001b[0m\u001b[38;2;212;183;2m─╯\u001b[0m\n"
      ]
     },
     "metadata": {},
     "output_type": "display_data"
    },
    {
     "data": {
      "text/html": [
       "<pre style=\"white-space:pre;overflow-x:auto;line-height:normal;font-family:Menlo,'DejaVu Sans Mono',consolas,'Courier New',monospace\"><span style=\"color: #d4b702; text-decoration-color: #d4b702\">━━━━━━━━━━━━━━━━━━━━━━━━━━━━━━━━━━━━━━━━━━━━━━━━━━━━━ </span><span style=\"font-weight: bold\">Step </span><span style=\"color: #008080; text-decoration-color: #008080; font-weight: bold\">1</span><span style=\"color: #d4b702; text-decoration-color: #d4b702\"> ━━━━━━━━━━━━━━━━━━━━━━━━━━━━━━━━━━━━━━━━━━━━━━━━━━━━━━</span>\n",
       "</pre>\n"
      ],
      "text/plain": [
       "\u001b[38;2;212;183;2m━━━━━━━━━━━━━━━━━━━━━━━━━━━━━━━━━━━━━━━━━━━━━━━━━━━━━ \u001b[0m\u001b[1mStep \u001b[0m\u001b[1;36m1\u001b[0m\u001b[38;2;212;183;2m ━━━━━━━━━━━━━━━━━━━━━━━━━━━━━━━━━━━━━━━━━━━━━━━━━━━━━━\u001b[0m\n"
      ]
     },
     "metadata": {},
     "output_type": "display_data"
    },
    {
     "data": {
      "text/html": [
       "<pre style=\"white-space:pre;overflow-x:auto;line-height:normal;font-family:Menlo,'DejaVu Sans Mono',consolas,'Courier New',monospace\">╭─────────────────────────────────────────────────────────────────────────────────────────────────────────────────╮\n",
       "│ Calling tool: 'web_search' with arguments: {'query': 'why is the sky blue'}                                     │\n",
       "╰─────────────────────────────────────────────────────────────────────────────────────────────────────────────────╯\n",
       "</pre>\n"
      ],
      "text/plain": [
       "╭─────────────────────────────────────────────────────────────────────────────────────────────────────────────────╮\n",
       "│ Calling tool: 'web_search' with arguments: {'query': 'why is the sky blue'}                                     │\n",
       "╰─────────────────────────────────────────────────────────────────────────────────────────────────────────────────╯\n"
      ]
     },
     "metadata": {},
     "output_type": "display_data"
    },
    {
     "data": {
      "text/html": [
       "<pre style=\"white-space:pre;overflow-x:auto;line-height:normal;font-family:Menlo,'DejaVu Sans Mono',consolas,'Courier New',monospace\">Observations: ## Search Results\n",
       "\n",
       "|Why Is the Sky Blue? | NASA Space Place - NASA Science for Kids<span style=\"font-weight: bold\">](</span><span style=\"color: #0000ff; text-decoration-color: #0000ff; text-decoration: underline\">https://spaceplace.nasa.gov/blue-sky/en/)</span>\n",
       "Learn how sunlight is scattered by the gases and particles in Earth's atmosphere, making the sky blue. Find out how\n",
       "the sky changes color at different times of day and on other planets.\n",
       "\n",
       "|Why Is the Sky Blue? | Britannica<span style=\"font-weight: bold\">](</span><span style=\"color: #0000ff; text-decoration-color: #0000ff; text-decoration: underline\">https://www.britannica.com/story/why-is-the-sky-blue)</span>\n",
       "Shorter wavelengths of light, such as violet and blue, are more easily absorbed by air molecules than light from \n",
       "longer wavelengths <span style=\"font-weight: bold\">(</span>that is, from red, orange, and yellow bands in the spectrum<span style=\"font-weight: bold\">)</span>. Air molecules then radiate violet\n",
       "and blue light in different directions, saturating the sky.\n",
       "\n",
       "|Why Is the Sky Blue? Science of Blue Skies and Red \n",
       "Sunsets<span style=\"font-weight: bold\">](</span><span style=\"color: #0000ff; text-decoration-color: #0000ff; text-decoration: underline\">https://sciencenotes.org/why-is-the-sky-blue-science-of-blue-skies-and-red-sunsets/)</span>\n",
       "Why is the sky blue? Why are sunsets red? Learn about Rayleigh scattering and other physics factors that color the \n",
       "sky.\n",
       "\n",
       "|Why Is The Sky Blue? The Answer Is More Complex Than You <span style=\"color: #808000; text-decoration-color: #808000\">...</span> - \n",
       "ScienceAlert<span style=\"font-weight: bold\">](</span><span style=\"color: #0000ff; text-decoration-color: #0000ff; text-decoration: underline\">https://www.sciencealert.com/why-is-the-sky-blue-the-answer-is-more-complex-than-you-might-think)</span>\n",
       "The sky is blue because blue light from the Sun is scattered more efficiently by nitrogen and oxygen molecules in \n",
       "the atmosphere than other colors. Learn how this phenomenon works with examples, analogies and images from The \n",
       "Conversation.\n",
       "\n",
       "|Why is The Sky Blue? | Space<span style=\"font-weight: bold\">](</span><span style=\"color: #0000ff; text-decoration-color: #0000ff; text-decoration: underline\">https://www.space.com/why-is-the-sky-blue)</span>\n",
       "The sky is blue because light at the blue end of the spectrum is scattered stronger than other colors by air \n",
       "molecules. Learn how this phenomenon works, why the sky is not always blue, and how it affects sunsets and space \n",
       "views.\n",
       "\n",
       "|Why is the sky blue? - National Geographic Kids<span style=\"font-weight: bold\">](</span><span style=\"color: #0000ff; text-decoration-color: #0000ff; text-decoration: underline\">https://kids.nationalgeographic.com/books/article/sky)</span>\n",
       "Blue light is scattered more because of its short, choppy wavelength, making it the color we see the most. At \n",
       "sunrise and sunset, when the sunlight must travel though a thicker chunk of atmosphere to reach our eyes, blue \n",
       "light is scattered completely out of our field of vision, and we're typically left seeing brilliant red and orange \n",
       "colors.\n",
       "\n",
       "|Why is the sky blue? - Live Science<span style=\"font-weight: bold\">](</span><span style=\"color: #0000ff; text-decoration-color: #0000ff; text-decoration: underline\">https://www.livescience.com/planet-earth/why-is-the-sky-blue)</span>\n",
       "Learn how light from the sun interacts with Earth's atmosphere to make the sky blue. Find out why we see more blue \n",
       "than violet or purple, and how sunrise and sunset affect the color of the sky.\n",
       "\n",
       "|Why Is the Sky Blue? A Physics \n",
       "Explanation<span style=\"font-weight: bold\">](</span><span style=\"color: #0000ff; text-decoration-color: #0000ff; text-decoration: underline\">https://www.sciencenewstoday.org/why-is-the-sky-blue-a-physics-explanation)</span>\n",
       "The story of the blue sky is more than a tale of science—it is a testament to the power of curiosity. From a \n",
       "child's innocent question to the deep equations of theoretical physics, the path to understanding our sky reveals \n",
       "the intricate beauty of the universe.\n",
       "\n",
       "|Why is the Sky Blue? Simple Explanation &amp; Science Behind It<span style=\"font-weight: bold\">](</span><span style=\"color: #0000ff; text-decoration-color: #0000ff; text-decoration: underline\">https://www.stellarhistory.com/why-is-the-sky-blue/)</span>\n",
       "Learn how sunlight scatters as it passes through Earth's atmosphere, and why blue light dominates the sky. Discover\n",
       "how the sun's position, infrared shift, and other planets' atmospheres affect the color of the sky.\n",
       "\n",
       "|Why Is the Sky Blue? - \n",
       "HowStuffWorks<span style=\"font-weight: bold\">](</span><span style=\"color: #0000ff; text-decoration-color: #0000ff; text-decoration: underline\">https://science.howstuffworks.com/nature/climate-weather/atmospheric/sky.htm)</span>\n",
       "Learn how the colors of sunlight, the size of atmospheric particles and human perception combine to create the blue\n",
       "sky. Find out how the sky can change color depending on dust, pollution and water vapor.\n",
       "</pre>\n"
      ],
      "text/plain": [
       "Observations: ## Search Results\n",
       "\n",
       "|Why Is the Sky Blue? | NASA Space Place - NASA Science for Kids\u001b[1m]\u001b[0m\u001b[1m(\u001b[0m\u001b[4;94mhttps://spaceplace.nasa.gov/blue-sky/en/\u001b[0m\u001b[4;94m)\u001b[0m\n",
       "Learn how sunlight is scattered by the gases and particles in Earth's atmosphere, making the sky blue. Find out how\n",
       "the sky changes color at different times of day and on other planets.\n",
       "\n",
       "|Why Is the Sky Blue? | Britannica\u001b[1m]\u001b[0m\u001b[1m(\u001b[0m\u001b[4;94mhttps://www.britannica.com/story/why-is-the-sky-blue\u001b[0m\u001b[4;94m)\u001b[0m\n",
       "Shorter wavelengths of light, such as violet and blue, are more easily absorbed by air molecules than light from \n",
       "longer wavelengths \u001b[1m(\u001b[0mthat is, from red, orange, and yellow bands in the spectrum\u001b[1m)\u001b[0m. Air molecules then radiate violet\n",
       "and blue light in different directions, saturating the sky.\n",
       "\n",
       "|Why Is the Sky Blue? Science of Blue Skies and Red \n",
       "Sunsets\u001b[1m]\u001b[0m\u001b[1m(\u001b[0m\u001b[4;94mhttps://sciencenotes.org/why-is-the-sky-blue-science-of-blue-skies-and-red-sunsets/\u001b[0m\u001b[4;94m)\u001b[0m\n",
       "Why is the sky blue? Why are sunsets red? Learn about Rayleigh scattering and other physics factors that color the \n",
       "sky.\n",
       "\n",
       "|Why Is The Sky Blue? The Answer Is More Complex Than You \u001b[33m...\u001b[0m - \n",
       "ScienceAlert\u001b[1m]\u001b[0m\u001b[1m(\u001b[0m\u001b[4;94mhttps://www.sciencealert.com/why-is-the-sky-blue-the-answer-is-more-complex-than-you-might-think\u001b[0m\u001b[4;94m)\u001b[0m\n",
       "The sky is blue because blue light from the Sun is scattered more efficiently by nitrogen and oxygen molecules in \n",
       "the atmosphere than other colors. Learn how this phenomenon works with examples, analogies and images from The \n",
       "Conversation.\n",
       "\n",
       "|Why is The Sky Blue? | Space\u001b[1m]\u001b[0m\u001b[1m(\u001b[0m\u001b[4;94mhttps://www.space.com/why-is-the-sky-blue\u001b[0m\u001b[4;94m)\u001b[0m\n",
       "The sky is blue because light at the blue end of the spectrum is scattered stronger than other colors by air \n",
       "molecules. Learn how this phenomenon works, why the sky is not always blue, and how it affects sunsets and space \n",
       "views.\n",
       "\n",
       "|Why is the sky blue? - National Geographic Kids\u001b[1m]\u001b[0m\u001b[1m(\u001b[0m\u001b[4;94mhttps://kids.nationalgeographic.com/books/article/sky\u001b[0m\u001b[4;94m)\u001b[0m\n",
       "Blue light is scattered more because of its short, choppy wavelength, making it the color we see the most. At \n",
       "sunrise and sunset, when the sunlight must travel though a thicker chunk of atmosphere to reach our eyes, blue \n",
       "light is scattered completely out of our field of vision, and we're typically left seeing brilliant red and orange \n",
       "colors.\n",
       "\n",
       "|Why is the sky blue? - Live Science\u001b[1m]\u001b[0m\u001b[1m(\u001b[0m\u001b[4;94mhttps://www.livescience.com/planet-earth/why-is-the-sky-blue\u001b[0m\u001b[4;94m)\u001b[0m\n",
       "Learn how light from the sun interacts with Earth's atmosphere to make the sky blue. Find out why we see more blue \n",
       "than violet or purple, and how sunrise and sunset affect the color of the sky.\n",
       "\n",
       "|Why Is the Sky Blue? A Physics \n",
       "Explanation\u001b[1m]\u001b[0m\u001b[1m(\u001b[0m\u001b[4;94mhttps://www.sciencenewstoday.org/why-is-the-sky-blue-a-physics-explanation\u001b[0m\u001b[4;94m)\u001b[0m\n",
       "The story of the blue sky is more than a tale of science—it is a testament to the power of curiosity. From a \n",
       "child's innocent question to the deep equations of theoretical physics, the path to understanding our sky reveals \n",
       "the intricate beauty of the universe.\n",
       "\n",
       "|Why is the Sky Blue? Simple Explanation & Science Behind It\u001b[1m]\u001b[0m\u001b[1m(\u001b[0m\u001b[4;94mhttps://www.stellarhistory.com/why-is-the-sky-blue/\u001b[0m\u001b[4;94m)\u001b[0m\n",
       "Learn how sunlight scatters as it passes through Earth's atmosphere, and why blue light dominates the sky. Discover\n",
       "how the sun's position, infrared shift, and other planets' atmospheres affect the color of the sky.\n",
       "\n",
       "|Why Is the Sky Blue? - \n",
       "HowStuffWorks\u001b[1m]\u001b[0m\u001b[1m(\u001b[0m\u001b[4;94mhttps://science.howstuffworks.com/nature/climate-weather/atmospheric/sky.htm\u001b[0m\u001b[4;94m)\u001b[0m\n",
       "Learn how the colors of sunlight, the size of atmospheric particles and human perception combine to create the blue\n",
       "sky. Find out how the sky can change color depending on dust, pollution and water vapor.\n"
      ]
     },
     "metadata": {},
     "output_type": "display_data"
    },
    {
     "data": {
      "text/html": [
       "<pre style=\"white-space:pre;overflow-x:auto;line-height:normal;font-family:Menlo,'DejaVu Sans Mono',consolas,'Courier New',monospace\"><span style=\"color: #7f7f7f; text-decoration-color: #7f7f7f\">[Step 1: Duration 1.91 seconds| Input tokens: 1,482 | Output tokens: 25]</span>\n",
       "</pre>\n"
      ],
      "text/plain": [
       "\u001b[2m[Step 1: Duration 1.91 seconds| Input tokens: 1,482 | Output tokens: 25]\u001b[0m\n"
      ]
     },
     "metadata": {},
     "output_type": "display_data"
    },
    {
     "data": {
      "text/html": [
       "<pre style=\"white-space:pre;overflow-x:auto;line-height:normal;font-family:Menlo,'DejaVu Sans Mono',consolas,'Courier New',monospace\"><span style=\"color: #d4b702; text-decoration-color: #d4b702\">━━━━━━━━━━━━━━━━━━━━━━━━━━━━━━━━━━━━━━━━━━━━━━━━━━━━━ </span><span style=\"font-weight: bold\">Step </span><span style=\"color: #008080; text-decoration-color: #008080; font-weight: bold\">2</span><span style=\"color: #d4b702; text-decoration-color: #d4b702\"> ━━━━━━━━━━━━━━━━━━━━━━━━━━━━━━━━━━━━━━━━━━━━━━━━━━━━━━</span>\n",
       "</pre>\n"
      ],
      "text/plain": [
       "\u001b[38;2;212;183;2m━━━━━━━━━━━━━━━━━━━━━━━━━━━━━━━━━━━━━━━━━━━━━━━━━━━━━ \u001b[0m\u001b[1mStep \u001b[0m\u001b[1;36m2\u001b[0m\u001b[38;2;212;183;2m ━━━━━━━━━━━━━━━━━━━━━━━━━━━━━━━━━━━━━━━━━━━━━━━━━━━━━━\u001b[0m\n"
      ]
     },
     "metadata": {},
     "output_type": "display_data"
    },
    {
     "data": {
      "text/html": [
       "<pre style=\"white-space:pre;overflow-x:auto;line-height:normal;font-family:Menlo,'DejaVu Sans Mono',consolas,'Courier New',monospace\">╭─────────────────────────────────────────────────────────────────────────────────────────────────────────────────╮\n",
       "│ Calling tool: 'final_answer' with arguments: {'answer': \"The sky is blue primarily due to Rayleigh scattering.  │\n",
       "│ This phenomenon occurs because shorter wavelengths of light, such as blue and violet, are scattered more        │\n",
       "│ efficiently by the gases and particles in Earth's atmosphere than longer wavelengths like red and yellow.       │\n",
       "│ However, our eyes are more sensitive to blue light, and some of the violet light is absorbed by the upper       │\n",
       "│ atmosphere, making the sky appear predominantly blue. During sunrise and sunset, when sunlight passes through a │\n",
       "│ thicker layer of the atmosphere, shorter wavelengths are scattered out of view, leaving the longer wavelengths  │\n",
       "│ like reds and oranges visible.\"}                                                                                │\n",
       "╰─────────────────────────────────────────────────────────────────────────────────────────────────────────────────╯\n",
       "</pre>\n"
      ],
      "text/plain": [
       "╭─────────────────────────────────────────────────────────────────────────────────────────────────────────────────╮\n",
       "│ Calling tool: 'final_answer' with arguments: {'answer': \"The sky is blue primarily due to Rayleigh scattering.  │\n",
       "│ This phenomenon occurs because shorter wavelengths of light, such as blue and violet, are scattered more        │\n",
       "│ efficiently by the gases and particles in Earth's atmosphere than longer wavelengths like red and yellow.       │\n",
       "│ However, our eyes are more sensitive to blue light, and some of the violet light is absorbed by the upper       │\n",
       "│ atmosphere, making the sky appear predominantly blue. During sunrise and sunset, when sunlight passes through a │\n",
       "│ thicker layer of the atmosphere, shorter wavelengths are scattered out of view, leaving the longer wavelengths  │\n",
       "│ like reds and oranges visible.\"}                                                                                │\n",
       "╰─────────────────────────────────────────────────────────────────────────────────────────────────────────────────╯\n"
      ]
     },
     "metadata": {},
     "output_type": "display_data"
    },
    {
     "data": {
      "text/html": [
       "<pre style=\"white-space:pre;overflow-x:auto;line-height:normal;font-family:Menlo,'DejaVu Sans Mono',consolas,'Courier New',monospace\"><span style=\"color: #d4b702; text-decoration-color: #d4b702; font-weight: bold\">Final answer: The sky is blue primarily due to Rayleigh scattering. This phenomenon occurs because shorter </span>\n",
       "<span style=\"color: #d4b702; text-decoration-color: #d4b702; font-weight: bold\">wavelengths of light, such as blue and violet, are scattered more efficiently by the gases and particles in Earth's</span>\n",
       "<span style=\"color: #d4b702; text-decoration-color: #d4b702; font-weight: bold\">atmosphere than longer wavelengths like red and yellow. However, our eyes are more sensitive to blue light, and </span>\n",
       "<span style=\"color: #d4b702; text-decoration-color: #d4b702; font-weight: bold\">some of the violet light is absorbed by the upper atmosphere, making the sky appear predominantly blue. During </span>\n",
       "<span style=\"color: #d4b702; text-decoration-color: #d4b702; font-weight: bold\">sunrise and sunset, when sunlight passes through a thicker layer of the atmosphere, shorter wavelengths are </span>\n",
       "<span style=\"color: #d4b702; text-decoration-color: #d4b702; font-weight: bold\">scattered out of view, leaving the longer wavelengths like reds and oranges visible.</span>\n",
       "</pre>\n"
      ],
      "text/plain": [
       "\u001b[1;38;2;212;183;2mFinal answer: The sky is blue primarily due to Rayleigh scattering. This phenomenon occurs because shorter \u001b[0m\n",
       "\u001b[1;38;2;212;183;2mwavelengths of light, such as blue and violet, are scattered more efficiently by the gases and particles in Earth's\u001b[0m\n",
       "\u001b[1;38;2;212;183;2matmosphere than longer wavelengths like red and yellow. However, our eyes are more sensitive to blue light, and \u001b[0m\n",
       "\u001b[1;38;2;212;183;2msome of the violet light is absorbed by the upper atmosphere, making the sky appear predominantly blue. During \u001b[0m\n",
       "\u001b[1;38;2;212;183;2msunrise and sunset, when sunlight passes through a thicker layer of the atmosphere, shorter wavelengths are \u001b[0m\n",
       "\u001b[1;38;2;212;183;2mscattered out of view, leaving the longer wavelengths like reds and oranges visible.\u001b[0m\n"
      ]
     },
     "metadata": {},
     "output_type": "display_data"
    },
    {
     "data": {
      "text/html": [
       "<pre style=\"white-space:pre;overflow-x:auto;line-height:normal;font-family:Menlo,'DejaVu Sans Mono',consolas,'Courier New',monospace\"><span style=\"color: #7f7f7f; text-decoration-color: #7f7f7f\">[Step 2: Duration 2.45 seconds| Input tokens: 3,840 | Output tokens: 161]</span>\n",
       "</pre>\n"
      ],
      "text/plain": [
       "\u001b[2m[Step 2: Duration 2.45 seconds| Input tokens: 3,840 | Output tokens: 161]\u001b[0m\n"
      ]
     },
     "metadata": {},
     "output_type": "display_data"
    },
    {
     "data": {
      "text/plain": [
       "\"The sky is blue primarily due to Rayleigh scattering. This phenomenon occurs because shorter wavelengths of light, such as blue and violet, are scattered more efficiently by the gases and particles in Earth's atmosphere than longer wavelengths like red and yellow. However, our eyes are more sensitive to blue light, and some of the violet light is absorbed by the upper atmosphere, making the sky appear predominantly blue. During sunrise and sunset, when sunlight passes through a thicker layer of the atmosphere, shorter wavelengths are scattered out of view, leaving the longer wavelengths like reds and oranges visible.\""
      ]
     },
     "execution_count": 6,
     "metadata": {},
     "output_type": "execute_result"
    }
   ],
   "source": [
    "from smolagents import CodeAgent, LiteLLMModel\n",
    "\n",
    "model = LiteLLMModel(\n",
    "    model_id=\"ollama_chat/phi4:latest\", \n",
    "    api_base=\"http://localhost:11434\",\n",
    "    #api_key=\"YOUR_API_KEY\", # replace with API key if necessary\n",
    "    num_ctx=24576, # ollama default is 2048 which will fail horribly. 8192 works for easy tasks, more is better. Check https://huggingface.co/spaces/NyxKrage/LLM-Model-VRAM-Calculator to calculate how much VRAM this will need for the selected model.\n",
    ")\n",
    "\n",
    "# # executor_type=\"docker\"\n",
    "# agent = CodeAgent(tools=[], model=model, add_base_tools=True, additional_authorized_imports=['requests', 'bs4'])\n",
    "\n",
    "# agent.run(\"Could you give me the 118th number in the Fibonacci sequence?\",)\n",
    "\n",
    "\n",
    "from smolagents import ToolCallingAgent\n",
    "\n",
    "agent = ToolCallingAgent(tools=[], model=model, add_base_tools=True)\n",
    "agent.run(\"Why the sky is blue?\")"
   ]
  },
  {
   "cell_type": "code",
   "execution_count": null,
   "id": "6666f48e",
   "metadata": {},
   "outputs": [],
   "source": []
  }
 ],
 "metadata": {
  "kernelspec": {
   "display_name": ".venv",
   "language": "python",
   "name": "python3"
  },
  "language_info": {
   "codemirror_mode": {
    "name": "ipython",
    "version": 3
   },
   "file_extension": ".py",
   "mimetype": "text/x-python",
   "name": "python",
   "nbconvert_exporter": "python",
   "pygments_lexer": "ipython3",
   "version": "3.12.3"
  }
 },
 "nbformat": 4,
 "nbformat_minor": 5
}
